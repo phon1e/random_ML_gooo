{
 "cells": [
  {
   "cell_type": "code",
   "execution_count": null,
   "metadata": {},
   "outputs": [],
   "source": [
    "import numpy as np\n",
    "import matplotlib.pyplot as plt \n",
    "import json\n",
    "import pandas as pd \n",
    "\n",
    "from sklearn.feature_extraction.text import TfidfVectorizer\n",
    "from sklearn.metrics.pairwise import cosine_similarity, euclidean_distances"
   ]
  },
  {
   "cell_type": "code",
   "execution_count": null,
   "metadata": {},
   "outputs": [],
   "source": [
    "# https://www.kaggle.com/tmdb/tmdb-movie-metadata\n",
    "# !wget https://lazyprogrammer.me/course_files/nlp/tmdb_5000_movies.csv"
   ]
  },
  {
   "cell_type": "code",
   "execution_count": null,
   "metadata": {},
   "outputs": [],
   "source": [
    "df = pd.read_csv(\"tmdb_5000_movies.csv\")\n",
    "df.head()"
   ]
  },
  {
   "cell_type": "code",
   "execution_count": null,
   "metadata": {},
   "outputs": [],
   "source": [
    "x = df.iloc[0]\n",
    "print(x)\n",
    "\n",
    "\n",
    "print(x['genres'])\n",
    "print(x[\"keywords\"])\n",
    "\n",
    "j = json.loads(x['genres'])\n",
    "print(j)"
   ]
  },
  {
   "cell_type": "code",
   "execution_count": null,
   "metadata": {},
   "outputs": [],
   "source": [
    "# #convert json into single line of text\n",
    "# ' '.join(''.join(jj['name'].split()) for jj in j)"
   ]
  },
  {
   "cell_type": "code",
   "execution_count": null,
   "metadata": {},
   "outputs": [],
   "source": [
    "\n",
    "#cvt the relevant data for each movie into a single string \n",
    "#to be ingested by TfidVectionrizer \n",
    "\n",
    "def genres_and_kw_to_str(row):\n",
    "  genres = json.loads(row['genres'])\n",
    "  genres = ' '.join(''.join(j['name'].split())for j in genres)\n",
    "\n",
    "  keywords = json.loads(row['keywords'])\n",
    "  keywords = ' '.join(''.join(k['name'].split()) for k in keywords)\n",
    "\n",
    "  return \"%s %s\" %(genres, keywords)"
   ]
  },
  {
   "cell_type": "code",
   "execution_count": null,
   "metadata": {},
   "outputs": [],
   "source": [
    "#create a new string representation of each movie\n",
    "df['string'] = df.apply(genres_and_kw_to_str, axis = 1)\n",
    "df['string']\n",
    "\n",
    "\n",
    "#create a tf-idf vec obj\n",
    "tfidf = TfidfVectorizer(max_features=2000)\n",
    "\n",
    "\n",
    "X = tfidf.fit_transform(df['string'])\n",
    "\n",
    "print(X)"
   ]
  },
  {
   "cell_type": "code",
   "execution_count": null,
   "metadata": {},
   "outputs": [],
   "source": [
    "\n",
    "#generate a mapping from movie title -> index (in df)\n",
    "movie2idx = pd.Series(df.index, index=df['title'])\n",
    "print(movie2idx)\n",
    "\n",
    "idx = movie2idx['Scream 3']\n",
    "print(idx)\n",
    "\n",
    "\n",
    "query = X[idx]\n",
    "query.toarray()\n",
    "\n",
    "#compute score\n",
    "\n",
    "scores = cosine_similarity(query, X)\n",
    "print(scores)"
   ]
  },
  {
   "cell_type": "code",
   "execution_count": null,
   "metadata": {},
   "outputs": [],
   "source": [
    "scores = scores.flatten()\n",
    "\n",
    "plt.plot(scores)\n",
    "     "
   ]
  },
  {
   "cell_type": "code",
   "execution_count": null,
   "metadata": {},
   "outputs": [],
   "source": [
    "(-scores).argsort()\n",
    "plt.plot(scores[(-scores).argsort()]);"
   ]
  },
  {
   "cell_type": "code",
   "execution_count": null,
   "metadata": {},
   "outputs": [],
   "source": [
    "#get top 5 matches\n",
    "def recommend(title):\n",
    "  idx = movie2idx[title]\n",
    "  if type(idx) == pd.Series:\n",
    "    idx = idx.iloc[0]\n",
    "\n",
    "  #cal the pairwise similarity for this movie\n",
    "  query = X[idx]\n",
    "  scores = cosine_similarity(query, X)\n",
    "\n",
    "  #currently the array is 1 x N, make it just a 1-D arr\n",
    "  scores = scores.flatten()\n",
    "\n",
    "  #get the indexes of the highest scoring movies\n",
    "  #get the first K recomm\n",
    "  # don't return itself! not start from idx0 \n",
    "  recommended_idx = (-scores).argsort()[1:6]\n",
    "\n",
    "  #return the title of the recommendations \n",
    "  return df['title'].iloc[recommended_idx]"
   ]
  },
  {
   "cell_type": "code",
   "execution_count": null,
   "metadata": {},
   "outputs": [],
   "source": [
    "\n",
    "print(f\"Top 5 reccommendations for 'Scream 3' : \")\n",
    "print(recommend('Scream 3'))"
   ]
  }
 ],
 "metadata": {
  "language_info": {
   "name": "python"
  }
 },
 "nbformat": 4,
 "nbformat_minor": 2
}

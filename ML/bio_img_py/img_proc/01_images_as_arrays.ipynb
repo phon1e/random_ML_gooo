{
 "cells": [
  {
   "cell_type": "markdown",
   "metadata": {},
   "source": [
    "# Images are arrays of numbers\n",
    "\n",
    "[Numpy](https://numpy.org) is a library for processing multi-dimensional lists of numbers, of which microscopy images (stacks, multi-channel, time-lapses etc.) are a prominent example. We give here an introduction to this library.\n",
    "\n",
    "See also\n",
    "* [Image manipulation and processing using Numpy and Scipy by Emmanuelle Gouillart and Gaël Varoquaux](https://scipy-lectures.org/advanced/image_processing/index.html#basic-image)"
   ]
  },
  {
   "cell_type": "code",
   "execution_count": 1,
   "metadata": {},
   "outputs": [],
   "source": [
    "import numpy as np\n",
    "from matplotlib.pyplot import imshow"
   ]
  },
  {
   "cell_type": "markdown",
   "metadata": {},
   "source": [
    "## Numpy arrays\n",
    "\n",
    "An image is just a two dimensional list of pixels values, in other words a matrix, with a certain number of rows and columns. Therefore we can define it as a list of lists, each list being a row of pixels:"
   ]
  },
  {
   "cell_type": "code",
   "execution_count": 25,
   "metadata": {},
   "outputs": [
    {
     "data": {
      "text/plain": [
       "[[1, 0, 2, 1, 0, 0, 0],\n",
       " [0, 3, 1, 0, 1, 0, 1],\n",
       " [0, 5, 5, 1, 0, 1, 0],\n",
       " [0, 6, 6, 5, 1, 0, 2],\n",
       " [0, 0, 5, 6, 3, 0, 1],\n",
       " [0, 1, 2, 1, 0, 0, 1],\n",
       " [1, 0, 1, 0, 0, 1, 0]]"
      ]
     },
     "execution_count": 25,
     "metadata": {},
     "output_type": "execute_result"
    }
   ],
   "source": [
    "raw_image_array = [\n",
    "    [1, 0, 2, 1, 0, 0, 0],\n",
    "    [0, 3, 1, 0, 1, 0, 1],\n",
    "    [0, 5, 5, 1, 0, 1, 0],\n",
    "    [0, 6, 6, 5, 1, 0, 2],\n",
    "    [0, 0, 5, 6, 3, 0, 1],\n",
    "    [0, 1, 2, 1, 0, 0, 1],\n",
    "    [1, 0, 1, 0, 0, 1, 0]\n",
    "]\n",
    "raw_image_array"
   ]
  },
  {
   "cell_type": "code",
   "execution_count": 26,
   "metadata": {},
   "outputs": [
    {
     "data": {
      "text/plain": [
       "<matplotlib.image.AxesImage at 0x2bc8688f040>"
      ]
     },
     "execution_count": 26,
     "metadata": {},
     "output_type": "execute_result"
    },
    {
     "data": {
      "image/png": "[encoded data removed]",
      "text/plain": [
       "<Figure size 640x480 with 1 Axes>"
      ]
     },
     "metadata": {},
     "output_type": "display_data"
    }
   ],
   "source": [
    "imshow(raw_image_array)"
   ]
  },
  {
   "cell_type": "markdown",
   "metadata": {},
   "source": [
    "This output is almost the same as above with the difference that now it is indicated that we are dealing with a Numpy ```array```. Such Numpy arrays can now be treated as a one entity and we can perform the computation that we coudn't before:"
   ]
  },
  {
   "cell_type": "code",
   "execution_count": 11,
   "metadata": {},
   "outputs": [],
   "source": [
    "image = np.asarray(raw_image_array)"
   ]
  },
  {
   "cell_type": "code",
   "execution_count": 12,
   "metadata": {},
   "outputs": [
    {
     "data": {
      "text/plain": [
       "array([[-1, -2,  0, -1, -2, -2, -2],\n",
       "       [-2,  1, -1, -2, -1, -2, -1],\n",
       "       [-2,  3,  3, -1, -2, -1, -2],\n",
       "       [-2,  4,  4,  3, -1, -2,  0],\n",
       "       [-2, -2,  3,  4,  1, -2, -1],\n",
       "       [-2, -1,  0, -1, -2, -2, -1],\n",
       "       [-1, -2, -1, -2, -2, -1, -2]])"
      ]
     },
     "execution_count": 12,
     "metadata": {},
     "output_type": "execute_result"
    }
   ],
   "source": [
    "image - 2"
   ]
  },
  {
   "cell_type": "markdown",
   "metadata": {},
   "source": [
    "Note that these computations are very efficient because they are *vectorized*, i.e. they can in principle be performed in parallel."
   ]
  },
  {
   "cell_type": "markdown",
   "metadata": {},
   "source": [
    "## Two important properties\n",
    "\n",
    "Arrays like ```image``` have different properties. Two of the most important ones are:\n",
    "- the ```shape``` of the array, i.e. the number of rows, columns (and channels, planes etc. for multi-dimensional images)\n",
    "- the ```dtype``` of the array, i.e. an image of type `int64` has 2 to the power of 64 different grey values."
   ]
  },
  {
   "cell_type": "code",
   "execution_count": 13,
   "metadata": {},
   "outputs": [
    {
     "data": {
      "text/plain": [
       "(7, 7)"
      ]
     },
     "execution_count": 13,
     "metadata": {},
     "output_type": "execute_result"
    }
   ],
   "source": [
    "image.shape"
   ]
  },
  {
   "cell_type": "code",
   "execution_count": 14,
   "metadata": {},
   "outputs": [
    {
     "data": {
      "text/plain": [
       "dtype('int32')"
      ]
     },
     "execution_count": 14,
     "metadata": {},
     "output_type": "execute_result"
    }
   ],
   "source": [
    "image.dtype"
   ]
  },
  {
   "cell_type": "markdown",
   "metadata": {},
   "source": [
    "## Other ways of creating arrays\n",
    "\n",
    "When working with images, we often create artifical images to see what filters do with them. For example, we can create an image where all pixels have value `0` but a single one using the Numpy function [```np.zeros```](https://numpy.org/doc/stable/reference/generated/numpy.zeros.html). It requires to specify and image size."
   ]
  },
  {
   "cell_type": "code",
   "execution_count": 15,
   "metadata": {},
   "outputs": [
    {
     "data": {
      "text/plain": [
       "array([[0., 0., 0., 0., 0.],\n",
       "       [0., 0., 0., 0., 0.],\n",
       "       [0., 0., 0., 0., 0.],\n",
       "       [0., 0., 0., 0., 0.],\n",
       "       [0., 0., 0., 0., 0.],\n",
       "       [0., 0., 0., 0., 0.]])"
      ]
     },
     "execution_count": 15,
     "metadata": {},
     "output_type": "execute_result"
    }
   ],
   "source": [
    "image_size = (6, 5)\n",
    "\n",
    "image1 = np.zeros(image_size)\n",
    "image1"
   ]
  },
  {
   "cell_type": "code",
   "execution_count": 16,
   "metadata": {},
   "outputs": [
    {
     "data": {
      "text/plain": [
       "<matplotlib.image.AxesImage at 0x2bc855c3400>"
      ]
     },
     "execution_count": 16,
     "metadata": {},
     "output_type": "execute_result"
    },
    {
     "data": {
      "image/png": "[encoded data removed]",
      "text/plain": [
       "<Figure size 640x480 with 1 Axes>"
      ]
     },
     "metadata": {},
     "output_type": "display_data"
    }
   ],
   "source": [
    "imshow(image1)"
   ]
  },
  {
   "cell_type": "markdown",
   "metadata": {},
   "source": [
    "As images are just arrays, we just set pixel values as if we were accessing arrays. From this you also learn that the first axis (coordinate 0) is going from top to bottom while the second axis (coordinate 3) goes from left to right."
   ]
  },
  {
   "cell_type": "code",
   "execution_count": 17,
   "metadata": {},
   "outputs": [
    {
     "data": {
      "text/plain": [
       "<matplotlib.image.AxesImage at 0x2bc8546a7a0>"
      ]
     },
     "execution_count": 17,
     "metadata": {},
     "output_type": "execute_result"
    },
    {
     "data": {
      "image/png": "[encoded data removed]",
      "text/plain": [
       "<Figure size 640x480 with 1 Axes>"
      ]
     },
     "metadata": {},
     "output_type": "display_data"
    }
   ],
   "source": [
    "image1[0,3] = 1\n",
    "\n",
    "imshow(image1)"
   ]
  },
  {
   "cell_type": "markdown",
   "metadata": {},
   "source": [
    "For studying noise, we can for example create an image with random values using [```np.random.random```](https://numpy.org/doc/stable/reference/random/generated/numpy.random.Generator.random.html#numpy.random.Generator.random)."
   ]
  },
  {
   "cell_type": "code",
   "execution_count": 19,
   "metadata": {},
   "outputs": [
    {
     "data": {
      "text/plain": [
       "<matplotlib.image.AxesImage at 0x2bc84c24700>"
      ]
     },
     "execution_count": 19,
     "metadata": {},
     "output_type": "execute_result"
    },
    {
     "data": {
      "image/png": "[encoded data removed]",
      "text/plain": [
       "<Figure size 640x480 with 1 Axes>"
      ]
     },
     "metadata": {},
     "output_type": "display_data"
    }
   ],
   "source": [
    "image_random = np.random.random((6, 5))\n",
    "imshow(image_random)"
   ]
  },
  {
   "cell_type": "code",
   "execution_count": 20,
   "metadata": {},
   "outputs": [
    {
     "data": {
      "text/plain": [
       "array([[0.41872353, 0.25602701, 0.74252171, 0.73887115, 0.22842938],\n",
       "       [0.44272095, 0.24046257, 0.32284172, 0.12498297, 0.22701484],\n",
       "       [0.70821678, 0.68524306, 0.01395465, 0.02166252, 0.06675973],\n",
       "       [0.96929303, 0.14016888, 0.13844626, 0.97581043, 0.49629769],\n",
       "       [0.02258577, 0.72127883, 0.93027704, 0.16667097, 0.04410668],\n",
       "       [0.72690791, 0.7815808 , 0.12612828, 0.56733891, 0.70569611]])"
      ]
     },
     "execution_count": 20,
     "metadata": {},
     "output_type": "execute_result"
    }
   ],
   "source": [
    "image_random"
   ]
  },
  {
   "cell_type": "code",
   "execution_count": null,
   "metadata": {},
   "outputs": [],
   "source": []
  }
 ],
 "metadata": {
  "kernelspec": {
   "display_name": "Python 3 (ipykernel)",
   "language": "python",
   "name": "python3"
  },
  "language_info": {
   "codemirror_mode": {
    "name": "ipython",
    "version": 3
   },
   "file_extension": ".py",
   "mimetype": "text/x-python",
   "name": "python",
   "nbconvert_exporter": "python",
   "pygments_lexer": "ipython3",
   "version": "3.10.9"
  }
 },
 "nbformat": 4,
 "nbformat_minor": 4
}
